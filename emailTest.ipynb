{
 "cells": [
  {
   "cell_type": "code",
   "execution_count": 1,
   "metadata": {},
   "outputs": [],
   "source": [
    "import pandas as pd\n",
    "import numpy as np\n",
    "import nltk\n",
    "from nltk.tokenize import word_tokenize\n",
    "from nltk.stem import PorterStemmer\n",
    "from sklearn.feature_extraction.text import CountVectorizer\n",
    "from sklearn.model_selection import train_test_split"
   ]
  },
  {
   "cell_type": "markdown",
   "metadata": {},
   "source": [
    "## Testing the model"
   ]
  },
  {
   "cell_type": "code",
   "execution_count": 3,
   "metadata": {},
   "outputs": [],
   "source": [
    "from keras import backend as K\n",
    "\n",
    "def recall_m(y_true, y_pred):\n",
    "    true_positives = K.sum(K.round(K.clip(y_true * y_pred, 0, 1)))\n",
    "    possible_positives = K.sum(K.round(K.clip(y_true, 0, 1)))\n",
    "    recall = true_positives / (possible_positives + K.epsilon())\n",
    "    return recall\n",
    "\n",
    "def precision_m(y_true, y_pred):\n",
    "    true_positives = K.sum(K.round(K.clip(y_true * y_pred, 0, 1)))\n",
    "    predicted_positives = K.sum(K.round(K.clip(y_pred, 0, 1)))\n",
    "    precision = true_positives / (predicted_positives + K.epsilon())\n",
    "    return precision\n",
    "\n",
    "def f1_m(y_true, y_pred):\n",
    "    precision = precision_m(y_true, y_pred)\n",
    "    recall = recall_m(y_true, y_pred)\n",
    "    return 2*((precision*recall)/(precision+recall+K.epsilon()))"
   ]
  },
  {
   "cell_type": "code",
   "execution_count": 4,
   "metadata": {},
   "outputs": [],
   "source": [
    "from keras.models import load_model\n",
    "testModel = load_model(\"model.h5\", compile=False)\n",
    "testModel.compile(loss=\"binary_crossentropy\", metrics = [\"accuracy\", recall_m, precision_m, f1_m])\n"
   ]
  },
  {
   "cell_type": "code",
   "execution_count": 52,
   "metadata": {},
   "outputs": [],
   "source": [
    "# Loading Data\n",
    "csvData = pd.read_csv('data/spam_messages_train.csv', usecols = [\"label\", \"text\"])\n",
    "\n",
    "# Removing duplicates\n",
    "csvData.drop_duplicates(inplace = True)\n",
    "\n",
    "# Removing NULL entries\n",
    "csvData.dropna(inplace = True)"
   ]
  },
  {
   "cell_type": "code",
   "execution_count": 53,
   "metadata": {},
   "outputs": [
    {
     "data": {
      "text/plain": [
       "137"
      ]
     },
     "execution_count": 53,
     "metadata": {},
     "output_type": "execute_result"
    }
   ],
   "source": [
    "corpus = []\n",
    "stemmer = PorterStemmer()\n",
    "for text in csvData['text']:\n",
    "    tokenized_text = word_tokenize(text)\n",
    "    stemmed_string = ''\n",
    "    for word in tokenized_text:\n",
    "        stemmed_string += stemmer.stem(word) + ' '\n",
    "    corpus.append(stemmed_string)\n",
    "\n",
    "len(corpus[0])\n"
   ]
  },
  {
   "cell_type": "code",
   "execution_count": 45,
   "metadata": {},
   "outputs": [],
   "source": [
    "# import pickle\n",
    "cv = CountVectorizer()\n",
    "x = cv.fit_transform(corpus).toarray() # tokenized text\n",
    "y = csvData.iloc[:,0].values #spam / ham"
   ]
  },
  {
   "cell_type": "code",
   "execution_count": 46,
   "metadata": {},
   "outputs": [],
   "source": [
    "del csvData\n",
    "del corpus"
   ]
  },
  {
   "cell_type": "code",
   "execution_count": 47,
   "metadata": {},
   "outputs": [],
   "source": [
    "for label in range(len(y)):\n",
    "    \n",
    "    if y[label] == \"spam\":\n",
    "        y[label] = 1\n",
    "    elif y[label] == \"ham\":\n",
    "        y[label] = 0\n",
    "\n",
    "x_train, x_test, y_train, y_test = train_test_split(x, y, test_size = 0.2)\n",
    "del x, y, x_train, y_train"
   ]
  },
  {
   "cell_type": "code",
   "execution_count": 48,
   "metadata": {},
   "outputs": [],
   "source": [
    "x_test = np.array(x_test, dtype=np.int32)\n",
    "y_test = np.array(y_test, dtype=np.int32)"
   ]
  },
  {
   "cell_type": "code",
   "execution_count": 49,
   "metadata": {},
   "outputs": [
    {
     "data": {
      "text/plain": [
       "(1171, 45681)"
      ]
     },
     "execution_count": 49,
     "metadata": {},
     "output_type": "execute_result"
    }
   ],
   "source": [
    "x_test.shape"
   ]
  },
  {
   "cell_type": "code",
   "execution_count": 50,
   "metadata": {},
   "outputs": [],
   "source": [
    "# Define the target shape\n",
    "target_shape = (1171, 50876)\n",
    "\n",
    "# Calculate the number of zeros to add to each row\n",
    "num_zeros_to_add = target_shape[1] - x_test.shape[1]\n",
    "\n",
    "# Pad each row of x_test with zeros\n",
    "x_test = np.pad(x_test, ((0, 0), (0, num_zeros_to_add)), mode='constant')\n"
   ]
  },
  {
   "cell_type": "code",
   "execution_count": 51,
   "metadata": {},
   "outputs": [
    {
     "name": "stdout",
     "output_type": "stream",
     "text": [
      "37/37 [==============================] - 2s 34ms/step - loss: 3.0991 - accuracy: 0.6174 - recall_m: 0.3738 - precision_m: 0.5307 - f1_m: 0.4333\n",
      "3.0991268157958984 0.61742103099823 0.37379777431488037 0.5307261943817139 0.4333006739616394\n"
     ]
    }
   ],
   "source": [
    "loss, accuracy, f1Score, precision, recall = testModel.evaluate(x_test,y_test)\n",
    "print(loss, accuracy, f1Score, precision, recall)"
   ]
  }
 ],
 "metadata": {
  "kernelspec": {
   "display_name": "Python 3.10.8 64-bit",
   "language": "python",
   "name": "python3"
  },
  "language_info": {
   "codemirror_mode": {
    "name": "ipython",
    "version": 3
   },
   "file_extension": ".py",
   "mimetype": "text/x-python",
   "name": "python",
   "nbconvert_exporter": "python",
   "pygments_lexer": "ipython3",
   "version": "3.10.8"
  },
  "orig_nbformat": 4,
  "vscode": {
   "interpreter": {
    "hash": "d8f522fdcbce347e6597bdb4aa1ccaefc67ecc129fc9374262d86a6a2b486a75"
   }
  }
 },
 "nbformat": 4,
 "nbformat_minor": 2
}
