{
  "cells": [
    {
      "cell_type": "code",
      "execution_count": null,
      "metadata": {
        "colab": {
          "base_uri": "https://localhost:8080/"
        },
        "id": "sltoNG9gi0OO",
        "outputId": "4260ed1b-5a80-4f6f-91c4-1766a678fe97"
      },
      "outputs": [],
      "source": [
        "!python -m nltk.downloader punkt\n",
        "!python -m nltk.downloader stopwords"
      ]
    },
    {
      "cell_type": "code",
      "execution_count": null,
      "metadata": {
        "id": "nElGhW3miSv1"
      },
      "outputs": [],
      "source": [
        "import pandas as pd\n",
        "import numpy as np\n",
        "import nltk\n",
        "from nltk.tokenize import word_tokenize\n",
        "from nltk.stem import PorterStemmer\n",
        "from sklearn.feature_extraction.text import CountVectorizer\n",
        "from sklearn.model_selection import train_test_split"
      ]
    },
    {
      "cell_type": "code",
      "execution_count": null,
      "metadata": {
        "id": "PcCkSkhziSv-"
      },
      "outputs": [],
      "source": [
        "# Loading Data\n",
        "csvData = pd.read_csv('data/dataset.csv', usecols = [\"label\", \"text\"])"
      ]
    },
    {
      "cell_type": "code",
      "execution_count": null,
      "metadata": {
        "id": "CHOrripMiSv_"
      },
      "outputs": [],
      "source": [
        "# Removing duplicates\n",
        "csvData.drop_duplicates(inplace = True)\n",
        "\n",
        "# Removing NULL entries\n",
        "csvData.dropna(inplace = True)"
      ]
    },
    {
      "cell_type": "code",
      "execution_count": null,
      "metadata": {
        "colab": {
          "base_uri": "https://localhost:8080/"
        },
        "id": "vUiwk_AniSwA",
        "outputId": "44d80445-676e-441f-99ef-91f023adb4ab"
      },
      "outputs": [],
      "source": [
        "corpus = []\n",
        "stemmer = PorterStemmer()\n",
        "for text in csvData['text']:\n",
        "    tokenized_text = word_tokenize(text)\n",
        "    stemmed_string = ''\n",
        "    for word in tokenized_text:\n",
        "        stemmed_string += stemmer.stem(word) + ' ' #stemmed word\n",
        "    corpus.append(stemmed_string)\n",
        "\n",
        "\n",
        "len(corpus[0])\n"
      ]
    },
    {
      "cell_type": "code",
      "execution_count": null,
      "metadata": {
        "id": "-43aam8ziSwA"
      },
      "outputs": [],
      "source": [
        "# from nltk.stem import WordNetLemmatizer\n",
        "\n",
        "# corpusLemma = []\n",
        "# wnl = WordNetLemmatizer()\n",
        "# for text in csvData['text']:\n",
        "#     tokenized_text = word_tokenize(text)\n",
        "#     stemmed_string = ''\n",
        "#     for word in tokenized_text:\n",
        "#         stemmed_string += wnl.lemmatize(word) + ' ' #stemmed word\n",
        "#     corpusLemma.append(stemmed_string)\n",
        "\n"
      ]
    },
    {
      "cell_type": "code",
      "execution_count": null,
      "metadata": {
        "id": "ZE_NRttqiSwB"
      },
      "outputs": [],
      "source": [
        "cv = CountVectorizer()\n",
        "x = cv.fit_transform(corpus).toarray() # tokenized text\n",
        "y = csvData.iloc[:,0].values           #spam / ham"
      ]
    },
    {
      "cell_type": "code",
      "execution_count": null,
      "metadata": {
        "id": "MkSs7WH5nFv5"
      },
      "outputs": [],
      "source": [
        "del csvData\n",
        "del corpus"
      ]
    },
    {
      "cell_type": "code",
      "execution_count": null,
      "metadata": {
        "id": "L6H1zaPXiSwC"
      },
      "outputs": [],
      "source": [
        "for label in range(len(y)):\n",
        "\n",
        "    if y[label] == \"spam\":\n",
        "        y[label]=1\n",
        "    elif y[label] == \"ham\":\n",
        "        y[label]=0\n"
      ]
    },
    {
      "cell_type": "code",
      "execution_count": null,
      "metadata": {
        "id": "6KI5R76riSwC"
      },
      "outputs": [],
      "source": [
        "x_train, x_test, y_train, y_test = train_test_split(x, y, test_size = 0.2)"
      ]
    },
    {
      "cell_type": "code",
      "execution_count": null,
      "metadata": {
        "id": "c4pAci0pnS5u"
      },
      "outputs": [],
      "source": [
        "del x, y, x_test, y_test"
      ]
    },
    {
      "cell_type": "code",
      "execution_count": null,
      "metadata": {
        "id": "d6yHS0YsiSwE"
      },
      "outputs": [],
      "source": [
        "x_train = np.array(x_train, dtype=np.float32)\n",
        "y_train = np.array(y_train, dtype=np.int32)"
      ]
    },
    {
      "cell_type": "code",
      "execution_count": null,
      "metadata": {
        "id": "fdJZGAZOphsO"
      },
      "outputs": [],
      "source": [
        "from tensorflow.keras.models import Sequential\n",
        "from tensorflow.keras.layers import Dense, Dropout\n",
        "from tensorflow.keras.models import load_model"
      ]
    },
    {
      "cell_type": "code",
      "execution_count": null,
      "metadata": {
        "id": "rZq033QfiSwE"
      },
      "outputs": [],
      "source": [
        "model = Sequential()\n",
        "model.add(Dense(800, input_shape = (len(x_train[0]),), activation=\"relu\"))\n",
        "model.add(Dense(400, activation=\"relu\"))\n",
        "model.add(Dense(1, activation='sigmoid'))\n",
        "model.compile(loss=\"binary_crossentropy\", metrics = [\"accuracy\"])\n"
      ]
    },
    {
      "cell_type": "code",
      "execution_count": null,
      "metadata": {
        "colab": {
          "base_uri": "https://localhost:8080/"
        },
        "id": "kH-q8ubviSwE",
        "outputId": "94b485a5-2c75-4bf5-cc23-b34b1c8819d2"
      },
      "outputs": [],
      "source": [
        "hist = model.fit(x_train, y_train, epochs=20, batch_size = 100, callbacks=[tensorboardCallback])\n",
        "\n",
        "# model.save('model.h5')"
      ]
    },
    {
      "cell_type": "code",
      "execution_count": null,
      "metadata": {
        "colab": {
          "base_uri": "https://localhost:8080/",
          "height": 430
        },
        "id": "U7o9NfTXiSwE",
        "outputId": "35f2d302-f5d2-49e2-ee92-ea14f965896b"
      },
      "outputs": [],
      "source": [
        "import matplotlib.pyplot as plt\n",
        "fig = plt.figure()\n",
        "plt.plot(hist.history['accuracy'], color='teal', label='accuracy')\n",
        "plt.show()"
      ]
    },
    {
      "cell_type": "code",
      "execution_count": null,
      "metadata": {
        "id": "8qMs9hO3zKoO"
      },
      "outputs": [],
      "source": [
        "model.save('best-mail-classifier-colab.h5')"
      ]
    },
    {
      "cell_type": "code",
      "execution_count": null,
      "metadata": {
        "colab": {
          "base_uri": "https://localhost:8080/"
        },
        "id": "Ub70IcOBiSwF",
        "outputId": "cd9a3716-93c8-4132-e520-39c1a3fe96e8"
      },
      "outputs": [],
      "source": [
        "user_text = \"Hello Barry. How are you?\"\n",
        "prediction = model.predict(cv.transform([user_text]))[0]\n",
        "\n",
        "prediction"
      ]
    },
    {
      "cell_type": "code",
      "execution_count": null,
      "metadata": {
        "id": "t3A_lvIoqxLu"
      },
      "outputs": [],
      "source": [
        "if prediction > 0.5:\n",
        "    print(\"spam\")\n",
        "else:\n",
        "    print(\"ham\")"
      ]
    }
  ],
  "metadata": {
    "accelerator": "GPU",
    "colab": {
      "gpuType": "T4",
      "provenance": []
    },
    "kernelspec": {
      "display_name": "Python 3",
      "name": "python3"
    },
    "language_info": {
      "codemirror_mode": {
        "name": "ipython",
        "version": 3
      },
      "file_extension": ".py",
      "mimetype": "text/x-python",
      "name": "python",
      "nbconvert_exporter": "python",
      "pygments_lexer": "ipython3",
      "version": "3.10.8"
    },
    "orig_nbformat": 4,
    "vscode": {
      "interpreter": {
        "hash": "d8f522fdcbce347e6597bdb4aa1ccaefc67ecc129fc9374262d86a6a2b486a75"
      }
    }
  },
  "nbformat": 4,
  "nbformat_minor": 0
}
