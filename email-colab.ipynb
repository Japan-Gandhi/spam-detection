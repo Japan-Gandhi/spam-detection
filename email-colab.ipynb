{
  "cells": [
    {
      "cell_type": "code",
      "execution_count": 1,
      "metadata": {
        "colab": {
          "base_uri": "https://localhost:8080/"
        },
        "id": "sltoNG9gi0OO",
        "outputId": "bbf483ee-ab53-40b7-f252-eae10f9e0385"
      },
      "outputs": [
        {
          "name": "stderr",
          "output_type": "stream",
          "text": [
            "c:\\Users\\kayna\\AppData\\Local\\Programs\\Python\\Python310\\lib\\runpy.py:126: RuntimeWarning: 'nltk.downloader' found in sys.modules after import of package 'nltk', but prior to execution of 'nltk.downloader'; this may result in unpredictable behaviour\n",
            "  warn(RuntimeWarning(msg))\n",
            "[nltk_data] Downloading package punkt to\n",
            "[nltk_data]     C:\\Users\\kayna\\AppData\\Roaming\\nltk_data...\n",
            "[nltk_data]   Package punkt is already up-to-date!\n",
            "c:\\Users\\kayna\\AppData\\Local\\Programs\\Python\\Python310\\lib\\runpy.py:126: RuntimeWarning: 'nltk.downloader' found in sys.modules after import of package 'nltk', but prior to execution of 'nltk.downloader'; this may result in unpredictable behaviour\n",
            "  warn(RuntimeWarning(msg))\n",
            "[nltk_data] Downloading package stopwords to\n",
            "[nltk_data]     C:\\Users\\kayna\\AppData\\Roaming\\nltk_data...\n",
            "[nltk_data]   Package stopwords is already up-to-date!\n"
          ]
        }
      ],
      "source": [
        "!python -m nltk.downloader punkt\n",
        "!python -m nltk.downloader stopwords"
      ]
    },
    {
      "cell_type": "code",
      "execution_count": 3,
      "metadata": {
        "id": "nElGhW3miSv1"
      },
      "outputs": [],
      "source": [
        "import pandas as pd\n",
        "import numpy as np\n",
        "import nltk\n",
        "from nltk.tokenize import word_tokenize\n",
        "from nltk.stem import PorterStemmer\n",
        "from sklearn.feature_extraction.text import CountVectorizer\n",
        "from sklearn.model_selection import train_test_split"
      ]
    },
    {
      "cell_type": "code",
      "execution_count": 4,
      "metadata": {
        "id": "PcCkSkhziSv-"
      },
      "outputs": [],
      "source": [
        "# Loading Data\n",
        "csvData = pd.read_csv('data/dataset.csv', usecols = [\"label\", \"text\"])"
      ]
    },
    {
      "cell_type": "code",
      "execution_count": 5,
      "metadata": {
        "id": "CHOrripMiSv_"
      },
      "outputs": [],
      "source": [
        "# Removing duplicates\n",
        "csvData.drop_duplicates(inplace = True)\n",
        "\n",
        "# Removing NULL entries\n",
        "csvData.dropna(inplace = True)"
      ]
    },
    {
      "cell_type": "code",
      "execution_count": 7,
      "metadata": {
        "colab": {
          "base_uri": "https://localhost:8080/"
        },
        "id": "vUiwk_AniSwA",
        "outputId": "b8443207-e264-43e8-9dc3-65d107998104"
      },
      "outputs": [
        {
          "data": {
            "text/plain": [
              "687"
            ]
          },
          "execution_count": 7,
          "metadata": {},
          "output_type": "execute_result"
        }
      ],
      "source": [
        "corpus = []\n",
        "stemmer = PorterStemmer()\n",
        "for text in csvData['text']:\n",
        "    tokenized_text = word_tokenize(text)\n",
        "    stemmed_string = ''\n",
        "    for word in tokenized_text:\n",
        "        stemmed_string += stemmer.stem(word) + ' '\n",
        "    corpus.append(stemmed_string)\n",
        "\n",
        "len(corpus[0])\n"
      ]
    },
    {
      "cell_type": "code",
      "execution_count": null,
      "metadata": {
        "id": "-43aam8ziSwA"
      },
      "outputs": [],
      "source": [
        "# from nltk.stem import WordNetLemmatizer\n",
        "\n",
        "# corpusLemma = []\n",
        "# wnl = WordNetLemmatizer()\n",
        "# for text in csvData['text']:\n",
        "#     tokenized_text = word_tokenize(text)\n",
        "#     stemmed_string = ''\n",
        "#     for word in tokenized_text:\n",
        "#         stemmed_string += wnl.lemmatize(word) + ' ' #stemmed word\n",
        "#     corpusLemma.append(stemmed_string)"
      ]
    },
    {
      "cell_type": "code",
      "execution_count": 8,
      "metadata": {
        "id": "ZE_NRttqiSwB"
      },
      "outputs": [],
      "source": [
        "cv = CountVectorizer()\n",
        "x = cv.fit_transform(corpus).toarray()\n",
        "y = csvData.iloc[:,0].values"
      ]
    },
    {
      "cell_type": "code",
      "execution_count": 9,
      "metadata": {
        "id": "MkSs7WH5nFv5"
      },
      "outputs": [],
      "source": [
        "del csvData\n",
        "del corpus"
      ]
    },
    {
      "cell_type": "code",
      "execution_count": 10,
      "metadata": {},
      "outputs": [],
      "source": [
        "del stemmed_string, text, tokenized_text, word"
      ]
    },
    {
      "cell_type": "code",
      "execution_count": 11,
      "metadata": {
        "id": "L6H1zaPXiSwC"
      },
      "outputs": [],
      "source": [
        "for label in range(len(y)):\n",
        "\n",
        "    if y[label] == \"spam\":\n",
        "        y[label]=1\n",
        "    elif y[label] == \"ham\":\n",
        "        y[label]=0\n"
      ]
    },
    {
      "cell_type": "code",
      "execution_count": 12,
      "metadata": {
        "id": "6KI5R76riSwC"
      },
      "outputs": [],
      "source": [
        "x_train, x_test, y_train, y_test = train_test_split(x, y, test_size = 0.2)"
      ]
    },
    {
      "cell_type": "code",
      "execution_count": 21,
      "metadata": {
        "id": "c4pAci0pnS5u"
      },
      "outputs": [
        {
          "ename": "NameError",
          "evalue": "name 'x' is not defined",
          "output_type": "error",
          "traceback": [
            "\u001b[1;31m---------------------------------------------------------------------------\u001b[0m",
            "\u001b[1;31mNameError\u001b[0m                                 Traceback (most recent call last)",
            "Cell \u001b[1;32mIn[21], line 1\u001b[0m\n\u001b[1;32m----> 1\u001b[0m \u001b[39mdel\u001b[39;00m x, y\n",
            "\u001b[1;31mNameError\u001b[0m: name 'x' is not defined"
          ]
        }
      ],
      "source": [
        "del x, y"
      ]
    },
    {
      "cell_type": "code",
      "execution_count": 1,
      "metadata": {
        "id": "fdJZGAZOphsO"
      },
      "outputs": [],
      "source": [
        "from tensorflow.keras.models import Sequential\n",
        "from tensorflow.keras.layers import Dense, Dropout\n",
        "from tensorflow.keras.models import load_model"
      ]
    },
    {
      "cell_type": "code",
      "execution_count": 3,
      "metadata": {
        "id": "rZq033QfiSwE"
      },
      "outputs": [
        {
          "ename": "TypeError",
          "evalue": "'int' object is not iterable",
          "output_type": "error",
          "traceback": [
            "\u001b[1;31m---------------------------------------------------------------------------\u001b[0m",
            "\u001b[1;31mTypeError\u001b[0m                                 Traceback (most recent call last)",
            "Cell \u001b[1;32mIn[3], line 3\u001b[0m\n\u001b[0;32m      1\u001b[0m model \u001b[39m=\u001b[39m Sequential()\n\u001b[0;32m      2\u001b[0m \u001b[39m# model.add(Dense(800, input_shape=(len(x_train[0]),), activation=\"relu\"))\u001b[39;00m\n\u001b[1;32m----> 3\u001b[0m model\u001b[39m.\u001b[39madd(Dense(\u001b[39m800\u001b[39;49m, input_shape\u001b[39m=\u001b[39;49m\u001b[39m255\u001b[39;49m, activation\u001b[39m=\u001b[39;49m\u001b[39m\"\u001b[39;49m\u001b[39mrelu\u001b[39;49m\u001b[39m\"\u001b[39;49m))\n\u001b[0;32m      4\u001b[0m model\u001b[39m.\u001b[39madd(Dense(\u001b[39m400\u001b[39m, activation\u001b[39m=\u001b[39m\u001b[39m\"\u001b[39m\u001b[39mrelu\u001b[39m\u001b[39m\"\u001b[39m))\n\u001b[0;32m      5\u001b[0m model\u001b[39m.\u001b[39madd(Dense(\u001b[39m1\u001b[39m, activation\u001b[39m=\u001b[39m\u001b[39m'\u001b[39m\u001b[39msigmoid\u001b[39m\u001b[39m'\u001b[39m))\n",
            "File \u001b[1;32mc:\\Users\\kayna\\AppData\\Local\\Programs\\Python\\Python310\\lib\\site-packages\\keras\\dtensor\\utils.py:96\u001b[0m, in \u001b[0;36mallow_initializer_layout.<locals>._wrap_function\u001b[1;34m(layer_instance, *args, **kwargs)\u001b[0m\n\u001b[0;32m     93\u001b[0m         \u001b[39mif\u001b[39;00m layout:\n\u001b[0;32m     94\u001b[0m             layout_args[variable_name \u001b[39m+\u001b[39m \u001b[39m\"\u001b[39m\u001b[39m_layout\u001b[39m\u001b[39m\"\u001b[39m] \u001b[39m=\u001b[39m layout\n\u001b[1;32m---> 96\u001b[0m init_method(layer_instance, \u001b[39m*\u001b[39margs, \u001b[39m*\u001b[39m\u001b[39m*\u001b[39mkwargs)\n\u001b[0;32m     98\u001b[0m \u001b[39m# Inject the layout parameter after the invocation of __init__()\u001b[39;00m\n\u001b[0;32m     99\u001b[0m \u001b[39mfor\u001b[39;00m layout_param_name, layout \u001b[39min\u001b[39;00m layout_args\u001b[39m.\u001b[39mitems():\n",
            "File \u001b[1;32mc:\\Users\\kayna\\AppData\\Local\\Programs\\Python\\Python310\\lib\\site-packages\\keras\\layers\\core\\dense.py:117\u001b[0m, in \u001b[0;36mDense.__init__\u001b[1;34m(self, units, activation, use_bias, kernel_initializer, bias_initializer, kernel_regularizer, bias_regularizer, activity_regularizer, kernel_constraint, bias_constraint, **kwargs)\u001b[0m\n\u001b[0;32m    102\u001b[0m \u001b[39m@utils\u001b[39m\u001b[39m.\u001b[39mallow_initializer_layout\n\u001b[0;32m    103\u001b[0m \u001b[39mdef\u001b[39;00m \u001b[39m__init__\u001b[39m(\n\u001b[0;32m    104\u001b[0m     \u001b[39mself\u001b[39m,\n\u001b[1;32m   (...)\u001b[0m\n\u001b[0;32m    115\u001b[0m     \u001b[39m*\u001b[39m\u001b[39m*\u001b[39mkwargs,\n\u001b[0;32m    116\u001b[0m ):\n\u001b[1;32m--> 117\u001b[0m     \u001b[39msuper\u001b[39m()\u001b[39m.\u001b[39m\u001b[39m__init__\u001b[39m(activity_regularizer\u001b[39m=\u001b[39mactivity_regularizer, \u001b[39m*\u001b[39m\u001b[39m*\u001b[39mkwargs)\n\u001b[0;32m    119\u001b[0m     \u001b[39mself\u001b[39m\u001b[39m.\u001b[39munits \u001b[39m=\u001b[39m \u001b[39mint\u001b[39m(units) \u001b[39mif\u001b[39;00m \u001b[39mnot\u001b[39;00m \u001b[39misinstance\u001b[39m(units, \u001b[39mint\u001b[39m) \u001b[39melse\u001b[39;00m units\n\u001b[0;32m    120\u001b[0m     \u001b[39mif\u001b[39;00m \u001b[39mself\u001b[39m\u001b[39m.\u001b[39munits \u001b[39m<\u001b[39m \u001b[39m0\u001b[39m:\n",
            "File \u001b[1;32mc:\\Users\\kayna\\AppData\\Local\\Programs\\Python\\Python310\\lib\\site-packages\\tensorflow\\python\\trackable\\base.py:205\u001b[0m, in \u001b[0;36mno_automatic_dependency_tracking.<locals>._method_wrapper\u001b[1;34m(self, *args, **kwargs)\u001b[0m\n\u001b[0;32m    203\u001b[0m \u001b[39mself\u001b[39m\u001b[39m.\u001b[39m_self_setattr_tracking \u001b[39m=\u001b[39m \u001b[39mFalse\u001b[39;00m  \u001b[39m# pylint: disable=protected-access\u001b[39;00m\n\u001b[0;32m    204\u001b[0m \u001b[39mtry\u001b[39;00m:\n\u001b[1;32m--> 205\u001b[0m   result \u001b[39m=\u001b[39m method(\u001b[39mself\u001b[39m, \u001b[39m*\u001b[39margs, \u001b[39m*\u001b[39m\u001b[39m*\u001b[39mkwargs)\n\u001b[0;32m    206\u001b[0m \u001b[39mfinally\u001b[39;00m:\n\u001b[0;32m    207\u001b[0m   \u001b[39mself\u001b[39m\u001b[39m.\u001b[39m_self_setattr_tracking \u001b[39m=\u001b[39m previous_value  \u001b[39m# pylint: disable=protected-access\u001b[39;00m\n",
            "File \u001b[1;32mc:\\Users\\kayna\\AppData\\Local\\Programs\\Python\\Python310\\lib\\site-packages\\keras\\engine\\base_layer.py:453\u001b[0m, in \u001b[0;36mLayer.__init__\u001b[1;34m(self, trainable, name, dtype, dynamic, **kwargs)\u001b[0m\n\u001b[0;32m    451\u001b[0m         \u001b[39melse\u001b[39;00m:\n\u001b[0;32m    452\u001b[0m             batch_size \u001b[39m=\u001b[39m \u001b[39mNone\u001b[39;00m\n\u001b[1;32m--> 453\u001b[0m         batch_input_shape \u001b[39m=\u001b[39m (batch_size,) \u001b[39m+\u001b[39m \u001b[39mtuple\u001b[39;49m(kwargs[\u001b[39m\"\u001b[39;49m\u001b[39minput_shape\u001b[39;49m\u001b[39m\"\u001b[39;49m])\n\u001b[0;32m    454\u001b[0m     \u001b[39mself\u001b[39m\u001b[39m.\u001b[39m_batch_input_shape \u001b[39m=\u001b[39m batch_input_shape\n\u001b[0;32m    456\u001b[0m \u001b[39m# Manage initial weight values if passed.\u001b[39;00m\n",
            "\u001b[1;31mTypeError\u001b[0m: 'int' object is not iterable"
          ]
        }
      ],
      "source": [
        "model = Sequential()\n",
        "model.add(Dense(800, input_shape=(len(x_train[0]),), activation=\"relu\"))\n",
        "model.add(Dense(400, activation=\"relu\"))\n",
        "model.add(Dense(1, activation='sigmoid'))\n",
        "\n",
        "from keras import backend as K\n",
        "\n",
        "def recall_m(y_true, y_pred):\n",
        "    true_positives = K.sum(K.round(K.clip(y_true * y_pred, 0, 1)))\n",
        "    possible_positives = K.sum(K.round(K.clip(y_true, 0, 1)))\n",
        "    recall = true_positives / (possible_positives + K.epsilon())\n",
        "    return recall\n",
        "\n",
        "def precision_m(y_true, y_pred):\n",
        "    true_positives = K.sum(K.round(K.clip(y_true * y_pred, 0, 1)))\n",
        "    predicted_positives = K.sum(K.round(K.clip(y_pred, 0, 1)))\n",
        "    precision = true_positives / (predicted_positives + K.epsilon())\n",
        "    return precision\n",
        "\n",
        "def f1_m(y_true, y_pred):\n",
        "    precision = precision_m(y_true, y_pred)\n",
        "    recall = recall_m(y_true, y_pred)\n",
        "    return 2*((precision*recall)/(precision+recall+K.epsilon()))\n",
        "\n",
        "\n",
        "model.compile(loss=\"binary_crossentropy\", metrics = [\"accuracy\", recall_m, precision_m, f1_m])\n"
      ]
    },
    {
      "cell_type": "code",
      "execution_count": 24,
      "metadata": {
        "id": "DkBZB75ECxxo"
      },
      "outputs": [],
      "source": [
        "import tensorflow as tf\n",
        "import matplotlib.pyplot as plt\n",
        "from keras.callbacks import EarlyStopping\n",
        "\n",
        "logdir='logsTest'\n",
        "tensorboardCallback = tf.keras.callbacks.TensorBoard(log_dir=logdir)\n",
        "early_stopping = EarlyStopping(monitor='accuracy', patience=3, verbose=1, mode='max', restore_best_weights=True)\n"
      ]
    },
    {
      "cell_type": "code",
      "execution_count": 25,
      "metadata": {
        "colab": {
          "base_uri": "https://localhost:8080/"
        },
        "id": "kH-q8ubviSwE",
        "outputId": "d95bb19f-1b8f-43a9-e254-c0154454ce39"
      },
      "outputs": [
        {
          "name": "stdout",
          "output_type": "stream",
          "text": [
            "Epoch 1/20\n",
            "163/163 [==============================] - 76s 462ms/step - loss: 0.1951 - accuracy: 0.9299 - recall_m: 0.8280 - precision_m: 0.9170 - f1_m: 0.8569\n",
            "Epoch 2/20\n",
            "163/163 [==============================] - 89s 544ms/step - loss: 0.0566 - accuracy: 0.9805 - recall_m: 0.9588 - precision_m: 0.9741 - f1_m: 0.9658\n",
            "Epoch 3/20\n",
            "163/163 [==============================] - 88s 541ms/step - loss: 0.0237 - accuracy: 0.9935 - recall_m: 0.9848 - precision_m: 0.9933 - f1_m: 0.9888\n",
            "Epoch 4/20\n",
            "163/163 [==============================] - 81s 498ms/step - loss: 0.0118 - accuracy: 0.9971 - recall_m: 0.9927 - precision_m: 0.9969 - f1_m: 0.9947\n",
            "Epoch 5/20\n",
            "163/163 [==============================] - 85s 521ms/step - loss: 0.0068 - accuracy: 0.9980 - recall_m: 0.9951 - precision_m: 0.9981 - f1_m: 0.9965\n",
            "Epoch 6/20\n",
            "163/163 [==============================] - 90s 551ms/step - loss: 0.0041 - accuracy: 0.9988 - recall_m: 0.9971 - precision_m: 0.9989 - f1_m: 0.9980\n",
            "Epoch 7/20\n",
            "163/163 [==============================] - 88s 539ms/step - loss: 0.0027 - accuracy: 0.9994 - recall_m: 0.9986 - precision_m: 0.9996 - f1_m: 0.9991\n",
            "Epoch 8/20\n",
            "163/163 [==============================] - 77s 475ms/step - loss: 0.0020 - accuracy: 0.9995 - recall_m: 0.9984 - precision_m: 0.9998 - f1_m: 0.9991\n",
            "Epoch 9/20\n",
            "163/163 [==============================] - 72s 444ms/step - loss: 0.0028 - accuracy: 0.9996 - recall_m: 0.9989 - precision_m: 0.9996 - f1_m: 0.9993\n",
            "Epoch 10/20\n",
            "163/163 [==============================] - 61s 373ms/step - loss: 0.0016 - accuracy: 0.9998 - recall_m: 0.9994 - precision_m: 1.0000 - f1_m: 0.9997\n",
            "Epoch 11/20\n",
            "163/163 [==============================] - 60s 370ms/step - loss: 0.0015 - accuracy: 0.9998 - recall_m: 0.9994 - precision_m: 1.0000 - f1_m: 0.9997\n",
            "Epoch 12/20\n",
            "163/163 [==============================] - 66s 403ms/step - loss: 0.0014 - accuracy: 0.9998 - recall_m: 0.9994 - precision_m: 0.9998 - f1_m: 0.9996\n",
            "Epoch 13/20\n",
            "163/163 [==============================] - ETA: 0s - loss: 0.0014 - accuracy: 0.9998 - recall_m: 0.9994 - precision_m: 1.0000 - f1_m: 0.9997Restoring model weights from the end of the best epoch: 10.\n",
            "163/163 [==============================] - 81s 500ms/step - loss: 0.0014 - accuracy: 0.9998 - recall_m: 0.9994 - precision_m: 1.0000 - f1_m: 0.9997\n",
            "Epoch 13: early stopping\n"
          ]
        }
      ],
      "source": [
        "hist = model.fit(x_train, y_train, epochs=20, batch_size = 100, callbacks=[early_stopping, tensorboardCallback])"
      ]
    },
    {
      "cell_type": "code",
      "execution_count": 26,
      "metadata": {
        "id": "JXt9sP24-o11"
      },
      "outputs": [],
      "source": [
        "del x_train, y_train"
      ]
    },
    {
      "cell_type": "code",
      "execution_count": 27,
      "metadata": {
        "colab": {
          "base_uri": "https://localhost:8080/",
          "height": 449
        },
        "id": "U7o9NfTXiSwE",
        "outputId": "a53b575e-7516-4008-e379-11038dae2597"
      },
      "outputs": [
        {
          "data": {
            "image/png": "[encoded data removed]",
            "text/plain": [
              "<Figure size 640x480 with 1 Axes>"
            ]
          },
          "metadata": {},
          "output_type": "display_data"
        }
      ],
      "source": [
        "import matplotlib.pyplot as plt\n",
        "fig = plt.figure()\n",
        "plt.plot(hist.history['accuracy'], color='teal', label='accuracy')\n",
        "plt.legend([\"accuracy\"], loc =\"lower right\")\n",
        "plt.xlabel(\"No. Of Epochs\")\n",
        "plt.ylabel(\"Accuracy\")\n",
        "plt.show()"
      ]
    },
    {
      "cell_type": "code",
      "execution_count": 28,
      "metadata": {
        "colab": {
          "base_uri": "https://localhost:8080/",
          "height": 559
        },
        "id": "ZS-Em0Y4-mvN",
        "outputId": "7e9b500f-3f26-4eab-b7b9-776d141b1dfb"
      },
      "outputs": [
        {
          "data": {
            "text/plain": [
              "Text(70.72222222222221, 0.5, 'No. Of Epochs')"
            ]
          },
          "execution_count": 28,
          "metadata": {},
          "output_type": "execute_result"
        },
        {
          "data": {
            "image/png": "[encoded data removed]",
            "text/plain": [
              "<Figure size 800x600 with 2 Axes>"
            ]
          },
          "metadata": {},
          "output_type": "display_data"
        }
      ],
      "source": [
        "import seaborn as sns\n",
        "data = np.array(hist.history[\"accuracy\"]).reshape(-1, 1)\n",
        "\n",
        "plt.figure(figsize=(8, 6))\n",
        "sns.heatmap(data, annot=True, cmap=\"coolwarm\", fmt=\".5f\")\n",
        "plt.legend([\"accuracy\"], loc =\"lower right\")\n",
        "plt.xlabel(\"Accuracy\")\n",
        "plt.ylabel(\"No. Of Epochs\")"
      ]
    },
    {
      "cell_type": "code",
      "execution_count": 29,
      "metadata": {
        "colab": {
          "base_uri": "https://localhost:8080/",
          "height": 564
        },
        "id": "hFQ4TvULF_56",
        "outputId": "4c91a4aa-8735-43d6-fbfd-3acdcab42e39"
      },
      "outputs": [
        {
          "data": {
            "text/plain": [
              "(4.0, 16.0)"
            ]
          },
          "execution_count": 29,
          "metadata": {},
          "output_type": "execute_result"
        },
        {
          "data": {
            "image/png": "[encoded data removed]",
            "text/plain": [
              "<Figure size 800x600 with 1 Axes>"
            ]
          },
          "metadata": {},
          "output_type": "display_data"
        }
      ],
      "source": [
        "import seaborn as sns\n",
        "data = np.array(hist.history[\"accuracy\"]).reshape(-1, 1)\n",
        "\n",
        "plt.figure(figsize=(8, 6))\n",
        "ax=sns.lineplot(data)\n",
        "plt.legend([\"accuracy\"], loc =\"lower right\")\n",
        "plt.xlabel(\"No. Of Epochs\")\n",
        "plt.ylabel(\"Accuracy\")\n",
        "ax.set_ylim(0.9990,1)\n",
        "ax.set_xlim(4,16)\n",
        "\n",
        "# ax.set(yscale=\"log\")"
      ]
    },
    {
      "cell_type": "code",
      "execution_count": 30,
      "metadata": {
        "id": "TQ0AwJNcW3SJ"
      },
      "outputs": [],
      "source": [
        "x_test = np.array(x_test, dtype=np.int32)\n",
        "y_test = np.array(y_test, dtype=np.int32)"
      ]
    },
    {
      "cell_type": "code",
      "execution_count": 31,
      "metadata": {
        "colab": {
          "base_uri": "https://localhost:8080/"
        },
        "id": "xr62OCRWWwsx",
        "outputId": "533aa254-5909-4423-b15e-abdeb1188a5a"
      },
      "outputs": [
        {
          "name": "stdout",
          "output_type": "stream",
          "text": [
            "128/128 [==============================] - 3s 24ms/step - loss: 0.2369 - accuracy: 0.9651 - recall_m: 0.9152 - precision_m: 0.9555 - f1_m: 0.9315\n",
            "Accuracy: 96.508485%\n"
          ]
        }
      ],
      "source": [
        "results = model.evaluate(x_test, y_test)\n",
        "print('Accuracy: {:5%}'.format(results[1]))\n"
      ]
    },
    {
      "cell_type": "code",
      "execution_count": 36,
      "metadata": {
        "id": "8qMs9hO3zKoO"
      },
      "outputs": [],
      "source": [
        "model.save('model.h5')"
      ]
    },
    {
      "cell_type": "code",
      "execution_count": 40,
      "metadata": {
        "colab": {
          "base_uri": "https://localhost:8080/"
        },
        "id": "Ub70IcOBiSwF",
        "outputId": "009f76bb-46c0-42d8-d790-51432092babe"
      },
      "outputs": [
        {
          "name": "stdout",
          "output_type": "stream",
          "text": [
            "1/1 [==============================] - 0s 180ms/step\n"
          ]
        },
        {
          "data": {
            "text/plain": [
              "array([0.00209509], dtype=float32)"
            ]
          },
          "execution_count": 40,
          "metadata": {},
          "output_type": "execute_result"
        }
      ],
      "source": [
        "user_text = \"Hello Barry. How are you?\"\n",
        "prediction = model.predict(cv.transform([user_text]))[0]\n",
        "prediction"
      ]
    },
    {
      "cell_type": "code",
      "execution_count": null,
      "metadata": {
        "colab": {
          "base_uri": "https://localhost:8080/"
        },
        "id": "t3A_lvIoqxLu",
        "outputId": "8eb2164b-cfae-4d28-e553-9418e8a06958"
      },
      "outputs": [],
      "source": [
        "if prediction > 0.5:\n",
        "    print(\"spam\")\n",
        "else:\n",
        "    print(\"ham\")"
      ]
    },
    {
      "cell_type": "code",
      "execution_count": null,
      "metadata": {
        "colab": {
          "base_uri": "https://localhost:8080/",
          "height": 422
        },
        "id": "BLqFdn9NHzU4",
        "outputId": "4d7de8e6-a6f6-4145-bb90-f5a012aeee7f"
      },
      "outputs": [],
      "source": [
        "from keras.utils.vis_utils import plot_model\n",
        "plot_model(model, to_file='model_plot.png', show_shapes=True, show_layer_names=True)"
      ]
    },
    {
      "cell_type": "markdown",
      "metadata": {},
      "source": [
        "## Testing the model"
      ]
    },
    {
      "cell_type": "code",
      "execution_count": 43,
      "metadata": {},
      "outputs": [],
      "source": [
        "from keras.models import load_model\n",
        "testModel = load_model(\"model.h5\", compile=False)\n",
        "testModel.compile(loss=\"binary_crossentropy\", metrics = [\"accuracy\", recall_m, precision_m, f1_m])\n"
      ]
    },
    {
      "cell_type": "code",
      "execution_count": null,
      "metadata": {},
      "outputs": [],
      "source": [
        "# Loading Data\n",
        "csvData = pd.read_csv('data/dataset.csv', usecols = [\"label\", \"text\"])\n",
        "\n",
        "# Removing duplicates\n",
        "csvData.drop_duplicates(inplace = True)\n",
        "\n",
        "# Removing NULL entries\n",
        "csvData.dropna(inplace = True)"
      ]
    },
    {
      "cell_type": "code",
      "execution_count": null,
      "metadata": {},
      "outputs": [],
      "source": [
        "corpus = []\n",
        "stemmer = PorterStemmer()\n",
        "for text in csvData['text']:\n",
        "    tokenized_text = word_tokenize(text)\n",
        "    stemmed_string = ''\n",
        "    for word in tokenized_text:\n",
        "        stemmed_string += stemmer.stem(word) + ' '\n",
        "    corpus.append(stemmed_string)\n",
        "\n",
        "len(corpus[0])\n"
      ]
    },
    {
      "cell_type": "code",
      "execution_count": null,
      "metadata": {},
      "outputs": [],
      "source": [
        "for label in range(len(y)):\n",
        "    \n",
        "    if y[label] == \"spam\":\n",
        "        y[label] = 1\n",
        "    elif y[label] == \"ham\":\n",
        "        y[label] = 0\n",
        "\n",
        "x_train, x_test, y_train, y_test = train_test_split(x, y, test_size = 0.2)\n",
        "del x, y, x_train, y_train"
      ]
    },
    {
      "cell_type": "code",
      "execution_count": null,
      "metadata": {},
      "outputs": [],
      "source": [
        "x_test = np.array(x_test, dtype=np.int32)\n",
        "y_test = np.array(y_test, dtype=np.int32)"
      ]
    },
    {
      "cell_type": "code",
      "execution_count": null,
      "metadata": {},
      "outputs": [],
      "source": [
        "results = model.evaluate(x_test, y_test)\n",
        "print('Accuracy: {:5%}'.format(results[1]))"
      ]
    }
  ],
  "metadata": {
    "accelerator": "GPU",
    "colab": {
      "gpuType": "T4",
      "provenance": []
    },
    "kernelspec": {
      "display_name": "Python 3",
      "name": "python3"
    },
    "language_info": {
      "codemirror_mode": {
        "name": "ipython",
        "version": 3
      },
      "file_extension": ".py",
      "mimetype": "text/x-python",
      "name": "python",
      "nbconvert_exporter": "python",
      "pygments_lexer": "ipython3",
      "version": "3.10.8"
    },
    "orig_nbformat": 4,
    "vscode": {
      "interpreter": {
        "hash": "d8f522fdcbce347e6597bdb4aa1ccaefc67ecc129fc9374262d86a6a2b486a75"
      }
    }
  },
  "nbformat": 4,
  "nbformat_minor": 0
}
